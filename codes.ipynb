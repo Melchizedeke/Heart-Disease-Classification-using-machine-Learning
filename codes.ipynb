{
 "cells": [
  {
   "attachments": {},
   "cell_type": "markdown",
   "metadata": {},
   "source": [
    "# Predicting Heart Disease Uisng Machine Learning.\n",
    "This notebook contains the python codes for machine learning and data science used to build a supervised learning machine learning model with the ability to predict whether a patient from the given structured data has heart disease based on their medical records.\n",
    "\n",
    "The following approach was followed in dealing with this problem\n",
    "1. Problem definition as captured above\n",
    "2. Data\n",
    "3. Evaluation - 'what defines success for this project?'\n",
    "4. Features \n",
    "5. Modelling proper\n",
    "6. Experimentation\n",
    "\n",
    "### Problem Definition \n",
    "It is a binary classification excercise to predict whether or not a patient has heart disease given his/her clinical records\n",
    "\n",
    "### Data\n",
    "A comma seperated values (csv) file from kaggle\n",
    "\n",
    "### Evaluation \n",
    "An accuracy of 95% should serve as a benchmark for the proof of concept (evidence or a basis for further experimentation)\n",
    "\n",
    "### Features\n",
    "Numerical variables that have close links to the problem definition"
   ]
  },
  {
   "attachments": {},
   "cell_type": "markdown",
   "metadata": {},
   "source": [
    "### Essential EDA Tools (Libraries)\n",
    "The major tools for the data analysis,manipulation and exploratory data analysis (EDA) section include:\n",
    "* NumPy\n",
    "* PanDas\n",
    "* MatPlotLib\n",
    "* Seaborn"
   ]
  },
  {
   "cell_type": "code",
   "execution_count": 1,
   "metadata": {},
   "outputs": [],
   "source": [
    "# EDA tools\n",
    "import numpy as np\n",
    "import pandas as pd\n",
    "import matplotlib.pyplot as plt\n",
    "import seaborn as sns\n",
    "%matplotlib inline"
   ]
  },
  {
   "cell_type": "code",
   "execution_count": null,
   "metadata": {},
   "outputs": [],
   "source": []
  }
 ],
 "metadata": {
  "kernelspec": {
   "display_name": "base",
   "language": "python",
   "name": "python3"
  },
  "language_info": {
   "codemirror_mode": {
    "name": "ipython",
    "version": 3
   },
   "file_extension": ".py",
   "mimetype": "text/x-python",
   "name": "python",
   "nbconvert_exporter": "python",
   "pygments_lexer": "ipython3",
   "version": "3.8.8"
  },
  "orig_nbformat": 4,
  "vscode": {
   "interpreter": {
    "hash": "6ba0883ef75f55eb59f522291f23a06941ace09d33bfcca46f462b483956d544"
   }
  }
 },
 "nbformat": 4,
 "nbformat_minor": 2
}
